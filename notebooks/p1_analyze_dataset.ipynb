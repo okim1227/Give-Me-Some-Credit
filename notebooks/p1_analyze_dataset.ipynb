{
 "cells": [
  {
   "cell_type": "markdown",
   "metadata": {},
   "source": [
    "<h1> Binance Data Science & Algorithm Internship Take Home Assessment </h1>"
   ]
  },
  {
   "cell_type": "markdown",
   "metadata": {},
   "source": [
    "<h2> Part 1 </h2>\n",
    "1.1 What are the factors that have high correlation with the probability of loan default?\n",
    "\n",
    "1.2 Are there interaction effects occurring among the variables?\n",
    "\n",
    "1.3 Any other preliminary analysis of the given dataset?"
   ]
  },
  {
   "cell_type": "code",
   "execution_count": null,
   "metadata": {},
   "outputs": [
    {
     "ename": "",
     "evalue": "",
     "output_type": "error",
     "traceback": [
      "\u001b[1;31mRunning cells with 'Python 3.8.13 64-bit ('3.8.13')' requires ipykernel package.\n",
      "\u001b[1;31mRun the following command to install 'ipykernel' into the Python environment. \n",
      "\u001b[1;31mCommand: '/Users/oliviakim/.pyenv/versions/3.8.13/bin/python -m pip install ipykernel -U --force-reinstall'"
     ]
    }
   ],
   "source": [
    "pip install torch"
   ]
  },
  {
   "cell_type": "code",
   "execution_count": null,
   "metadata": {},
   "outputs": [],
   "source": []
  }
 ],
 "metadata": {
  "kernelspec": {
   "display_name": "Python 3.8.13 64-bit ('3.8.13')",
   "language": "python",
   "name": "python3"
  },
  "language_info": {
   "name": "python",
   "version": "3.8.13"
  },
  "orig_nbformat": 4,
  "vscode": {
   "interpreter": {
    "hash": "6ece6927e82ede6f8d4c1a6d9b186c6e36a8ddf9b00361d9ecede178298f1a6a"
   }
  }
 },
 "nbformat": 4,
 "nbformat_minor": 2
}
